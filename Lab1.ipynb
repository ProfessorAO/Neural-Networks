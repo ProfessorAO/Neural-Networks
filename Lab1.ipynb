{
  "nbformat": 4,
  "nbformat_minor": 0,
  "metadata": {
    "colab": {
      "provenance": [],
      "include_colab_link": true
    },
    "kernelspec": {
      "name": "python3",
      "display_name": "Python 3"
    }
  },
  "cells": [
    {
      "cell_type": "markdown",
      "metadata": {
        "id": "view-in-github",
        "colab_type": "text"
      },
      "source": [
        "<a href=\"https://colab.research.google.com/github/ProfessorAO/Neural-Networks/blob/main/Lab1.ipynb\" target=\"_parent\"><img src=\"https://colab.research.google.com/assets/colab-badge.svg\" alt=\"Open In Colab\"/></a>"
      ]
    },
    {
      "cell_type": "markdown",
      "metadata": {
        "id": "SXc3ZW1plI6j"
      },
      "source": [
        "#Introduction\n",
        "\n",
        "Welcome to todays lab session where we will focus on linear regression. This lab will all be in Python, but the majority of the code is provided for you. As well as this notebook, you could also take a look at the regression quiz on canvas.\n",
        "\n",
        "The easiest way to complete this session is to log into a Google account and save a copy to your google drive. Alternatively, you could save this document to your machine and open as a Jupyter notebook. This lab only requires 2 external libraries, matplotlib and numpy."
      ]
    },
    {
      "cell_type": "code",
      "metadata": {
        "id": "KduJk6aHlGOd"
      },
      "source": [
        "# Import numpy for linear algebra support\n",
        "import numpy as np\n",
        "# Matplotlib is our main data plotting library\n",
        "import matplotlib.pyplot as plt\n",
        "\n",
        "# Set a training data range that's smaller than our test range, so we can demonstrate extrapolation\n",
        "x_train_range = [-20, 20]\n",
        "x_test_range = [-30, 30]\n",
        "x_test = np.linspace(*x_test_range, 100).reshape((-1,1)) \n",
        "#or you can specify the interval as an input\n",
        "#x_test = np.linspace(-30,30, 100, n_samples)"
      ],
      "execution_count": 57,
      "outputs": []
    },
    {
      "cell_type": "markdown",
      "metadata": {
        "id": "FLSSS-34mDpK"
      },
      "source": [
        "#Creating some test data\n",
        "\n",
        "We can generate our own data that fulfills our model assumptions to play with.\n",
        "\n",
        "Below is a function called create_data, which randomly generates a pair of linear model weights to synthesise some data. Note that the function takes a parameter called noise_sigma. This refers to the Gaussian distributed random noise that we expect to see in our model. It also takes n_samples, the number of data samples to generate.\n",
        "\n",
        "Try running the code below a few times, and note how the resulting plot changes each time you run it. Why is the plot changing? What do you notice about the plot for different model weight values?\n",
        "\n",
        "Try adjusting the value of sigma, what effect does this have on the plots?"
      ]
    },
    {
      "cell_type": "code",
      "metadata": {
        "colab": {
          "base_uri": "https://localhost:8080/",
          "height": 320
        },
        "id": "2nyxQPPnmJYX",
        "outputId": "94b9107b-c911-439c-97f2-02425030cb7c"
      },
      "source": [
        "# Let's start by defining a function some data that follows a linear assumption\n",
        "def create_data(noise_sigma=0.2, n_samples=10):\n",
        "  # Sample some data at even intervals in x. Choose n_sample points\n",
        "  x = np.linspace(*x_train_range, n_samples) #here the interval is used as an input\n",
        "  # Let's randomly generate some coefficient weights\n",
        "  intercept = np.random.randn()\n",
        "  linear_coeff = np.random.randn()\n",
        "  \n",
        "  # Generate our training data:\n",
        "  y = x*linear_coeff + intercept\n",
        "  # We need to remember to add some noise. We sample random normally\n",
        "  # distributed values and scale them by the standard deviation\n",
        "  y += np.random.randn(*y.shape) * noise_sigma\n",
        "  print(y)\n",
        "\n",
        "  # Let's store the noise free, ground truth function in the right range\n",
        "  y_gt = x_test*linear_coeff + intercept\n",
        "  return x.reshape((n_samples, -1)), y.reshape((n_samples, 1)), (linear_coeff, intercept), y_gt\n",
        "\n",
        "# If we call this function it returns some x and y points as well as the real model weights\n",
        "x, y, weights, y_gt = create_data()\n",
        "# Show the ground truth function in cyan\n",
        "plt.plot(x_test, y_gt, 'c-')\n",
        "plt.scatter(x, y)\n",
        "plt.show()\n",
        "\n",
        "print(weights)"
      ],
      "execution_count": 58,
      "outputs": [
        {
          "output_type": "stream",
          "name": "stdout",
          "text": [
            "[ 14.48633132  11.31264831   8.3693905    5.17715984   1.84031014\n",
            "  -0.97714985  -3.90242938  -7.25124027 -10.35953018 -13.408084  ]\n"
          ]
        },
        {
          "output_type": "display_data",
          "data": {
            "text/plain": [
              "<Figure size 432x288 with 1 Axes>"
            ],
            "image/png": "[encoded data removed]"
          },
          "metadata": {
            "needs_background": "light"
          }
        },
        {
          "output_type": "stream",
          "name": "stdout",
          "text": [
            "(-0.6910201384997454, 0.5049269764527349)\n"
          ]
        }
      ]
    },
    {
      "cell_type": "markdown",
      "metadata": {
        "id": "LKgNvmZinu2O"
      },
      "source": [
        "# Fitting a model to data\n",
        "As we've seen in the lectures, one way of fitting a linear regression model (estimating the parameters) is to calculate gradient analytically and set it to zero. The optimal parameters w are given by: $$\\mathbf{w} = (X^TX)^{-1}X^T\\mathbf{y} = X^{+}\\mathbf{y}$$, and $X^+$ is the psuedo-inverse (np.pinv) of X. For simple regression problems like we have here, this is an effective and simple solution.\n",
        "\n",
        "1. Read through the code below and see how this equates with the mathematics in the slides.\n",
        "\n",
        "2. Run the code for different generated data samples (running create_data again). How can we measure how well the model is doing? Try running this code for larger/smaller values of sigma. How does this affect the result?\n",
        "\n",
        "3. Try also adjusting the number of data samples. How does this affect the results?\n",
        "\n",
        "4. What was the cost function that is being minimised by this model? Can you calculate the value of cost function for the solution below? hint: [np.square](https://numpy.org/doc/1.18/reference/generated/numpy.square.html) and [np.mean](https://numpy.org/doc/1.18/reference/generated/numpy.mean.html) might be helpful\n"
      ]
    },
    {
      "cell_type": "code",
      "metadata": {
        "colab": {
          "base_uri": "https://localhost:8080/",
          "height": 539
        },
        "id": "YI28lqpNpZe5",
        "outputId": "b343956e-28c7-4e18-e537-d70d9f9f4467"
      },
      "source": [
        "# augment our data to allow for a constant intercept\n",
        "def augment_x(data):\n",
        "  # We need to add a column ones to x to describe the bias/intercept\n",
        "  augmented_data = np.hstack([data, np.ones_like(data)])\n",
        "  return augmented_data\n",
        "\n",
        "def fit_linear_regression(_x, _y):\n",
        "  _x = augment_x(_x)\n",
        "  print(_x.shape)\n",
        "  # Estimate the weights by multiplying the psuedo-inverse by y\n",
        "  estimated_weights = np.dot(np.linalg.pinv(_x), _y)\n",
        "  #estimated_weights = np.dot(np.dot(np.linalg.inv(np.dot(_x.T,_x)),_x.T),_y)\n",
        "  return estimated_weights\n",
        "\n",
        "# Produce our prediction for a given value of x for the fitted model weights\n",
        "def f_hat(_x, _w):\n",
        "  # Calculate our predicted points for each value of x\n",
        "  y_hat = np.dot(augment_x(_x), _w) \n",
        "  return y_hat\n",
        "\n",
        "estimated_weights = fit_linear_regression(x, y)\n",
        "\n",
        "# Print the esimated weights and then the real weights\n",
        "#print(estimated_weights.T, weights)\n",
        "\n",
        "# Calculate our predicted points for each value of x\n",
        "y_hat = f_hat(x, estimated_weights)\n",
        "print(y[1])\n",
        "print(\"===\")\n",
        "print(x)\n",
        "print(\"===\")\n",
        "print(y_hat[1])\n",
        "\n",
        "\n",
        "\n",
        "\n",
        "\n",
        "# Plot the fitted function outside of the range with a black dotted line\n",
        "plt.plot(x_test, f_hat(x_test, estimated_weights), 'k--')\n",
        "# Plot the fitted function inside the training range with a blue line\n",
        "plt.plot(x, y_hat, 'b-')\n",
        "# Show the training points as red crosses\n",
        "plt.plot(x, y, 'rx')\n",
        "# Show the ground truth function in cyan\n",
        "plt.plot(x_test, y_gt, 'c-')\n",
        "plt.show()\n",
        "\n",
        "\n"
      ],
      "execution_count": 65,
      "outputs": [
        {
          "output_type": "stream",
          "name": "stdout",
          "text": [
            "(10, 2)\n",
            "[11.31264831]\n",
            "===\n",
            "[[-20.        ]\n",
            " [-15.55555556]\n",
            " [-11.11111111]\n",
            " [ -6.66666667]\n",
            " [ -2.22222222]\n",
            " [  2.22222222]\n",
            " [  6.66666667]\n",
            " [ 11.11111111]\n",
            " [ 15.55555556]\n",
            " [ 20.        ]]\n",
            "===\n",
            "[11.36631816]\n"
          ]
        },
        {
          "output_type": "display_data",
          "data": {
            "text/plain": [
              "<Figure size 432x288 with 1 Axes>"
            ],
            "image/png": "[encoded data removed]"
          },
          "metadata": {
            "needs_background": "light"
          }
        }
      ]
    },
    {
      "cell_type": "code",
      "source": [
        "def calculate_cost():\n",
        "  SE = 0\n",
        "  MSE = 0\n",
        "  for i in range(1,len(y)):\n",
        "    SE += np.square(y_hat[i] -y[i])\n",
        "    print(f\"Squared Error: {SE} \")\n",
        "  MSE = np.mean(SE)\n",
        "  print(f\"Mean Squared Error: {MSE}\")\n",
        "\n",
        "calculate_cost()"
      ],
      "metadata": {
        "id": "wJfwRISh_YmI",
        "colab": {
          "base_uri": "https://localhost:8080/"
        },
        "outputId": "47e925cb-1e31-49ee-8303-52144d890669"
      },
      "execution_count": 68,
      "outputs": [
        {
          "output_type": "stream",
          "name": "stdout",
          "text": [
            "Squared Error: [0.00288045] \n",
            "Squared Error: [0.01278529] \n",
            "Squared Error: [0.0127993] \n",
            "Squared Error: [0.0688053] \n",
            "Squared Error: [0.07059754] \n",
            "Squared Error: [0.11618238] \n",
            "Squared Error: [0.11769202] \n",
            "Squared Error: [0.12026183] \n",
            "Squared Error: [0.12026965] \n",
            "Mean Squared Error: 0.12026965106166124\n"
          ]
        }
      ]
    }
  ]
}